{
 "metadata": {
  "language_info": {
   "codemirror_mode": {
    "name": "ipython",
    "version": 3
   },
   "file_extension": ".py",
   "mimetype": "text/x-python",
   "name": "python",
   "nbconvert_exporter": "python",
   "pygments_lexer": "ipython3",
   "version": "3.7.4-final"
  },
  "orig_nbformat": 2,
  "kernelspec": {
   "name": "Python 3.7.4 64-bit",
   "display_name": "Python 3.7.4 64-bit",
   "metadata": {
    "interpreter": {
     "hash": "e534e48711db4d1e1c48977d0d14ff85b1f16d41bcc4fdfd88268a329b3c9d66"
    }
   }
  }
 },
 "nbformat": 4,
 "nbformat_minor": 2,
 "cells": [
  {
   "cell_type": "code",
   "execution_count": 113,
   "metadata": {},
   "outputs": [
    {
     "output_type": "stream",
     "name": "stdout",
     "text": [
      "\n ### Goal; Complete your dating profile$TRUE$American is not an ethnicity. \nWhat's the difference between hometown and location?\nShould be able to skip college.\nShould be able to skip religion.\nWould prefer to see a list of religions. Someone could put cheese as your religion (which I would be in awe of)\nHow many shows should I be selecting? \nWould have chosen \"I don't think any of these are funny\" \nNot very into stand up comedy (would have liked to skip this option)\nMaybe ask upfront what kind of things make you laugh and then be more specific about the ones you've selected.\n\"Where do you go for funny content?\"\nNot clear at first why you're picking a prompt.\nWill there be a problem with fuck, marry, kill?\nIn general, need more context aorund the prompts$TRUE$IG only - needs explanation\nFeels like it's going to be very long (onboarding) process\nAs a male, height sucks (reason this is important) - Why only inches - Next needs to be on num pad\nMaybe show the profile at once - and show what you need to fill out - Tinder you can connect with FB and start swiping, how do we expedite this?\nEXPLAIN\nLocation - don't need map\nDating pref - move up\nEthnicity - risky, should be dropdown - Probably remove\nFamily preference - skip / prefer not to say are same thing\nHometown redudandant\nReligion - no good, text, so long\nLoves 'pick a show'\nPick a meme is great \nPick a platform - kinda cool\nPick a prompt - not sure what that is - iconography weird, how is it actually going to be used? (title says FMK on 'would you rather' - and no one wants to enter text') - didn't know need to enter a comment\n6 is a lot of photos\nProfile should be shown after humor, then add all the other stuff \nPicture first, but app that connects you on humor\n\n\nGo to the cheese (live dates) first -> pay people to go on dates, get people in quickly to that, then at the time of going to your queue, complete profile.$TRUE$\"Hometown, that's fun\"\nIs all of this info going to be shown on your profile right away? A lot of personal info for people you may not want to match with with\n\"Oh this is fun\" (humor quiz)\n'Pick a prompt' makes sense, but still not 100% sure how it will appear on your profile\nShort bio or best 1liner to add to profile to represent humor\nI really like this concept.  Line 19\n\n ### Targets / Questions:$$$$$$.  Line 20\n\n ### On a scale of 1-5... how much did you enjoy the HumorMe onboarding process? (1 being \"I did not enjoy it at all\", 5 being \"I enjoyed it a lot\")\nPlease expand.$4$Liked chooding a meme. It was way too long, but could be avoided if there were skip buttons.$2$Never lost\nToo many steps\nContext around why questions were asked was missing$3$It's easier than Tinder/Bumble because you don't need to write your own stuff\nDidn't ask what I was interested in (e.g. important for you to find someone like X, lives in Y, education).  Line 21\n\n ### On a scale of 1-5... how easy was it to achieve the goal of creating your dating profile? (1 being \"very difficult\", 5 being \"super easy\")\nPlease expand.$4$Fuck, marry, kill textbox was unclear. What to type during the prompts.$4$But very long$4$Ok length.  Line 22\n\n ### On a scale of 1-5... how accurately did the questions/answers reflect your sense of humor? (1 being \"not accurately at all\", 5 being \"very accurately\")\nFU: Was there any information you felt was particularly relevant? Irrelevant?\n$5$Relevant: meme. Irrelevant: platform.$2$75% of questions didn't represent my sense of humor\nFun questions\nNeed more of them - test and info needs to be more pronounced and what type of humor$2$Good but would need more questions (more prompts)\nWhat's funnier X v Y.  Line 23\n\n ### On a scale of 1-5... how helpful were the prompts to building your dating profile? (1 being \"not helpful at all\", 5 being \"very helpful\")\nPlease expand.$5$Allows for more freedom$2$Made way more sense when I saw in profile$4$Really good, funny, and much better representation of someones humor.  Line 24\n\n ### $$$$$$.  Line 25\n\n ### Preview profile$$$$$$.  Line 26\n\n ### Goal; Match with someone$TRUE$Assuming timeline or homescreen - unlimited amount of users$TRUE$$TRUE$Start swiping doesn't make sense (you don't swipe)\nOoh I like that 'it's a match' it's nice and romantic.  Line 27\n\n ### Targets / Questions:$$$$$$.  Line 28\n\n ### Is it clear what the 'Heart' and 'X' do?$TRUE$Similar to other apps$$$$.  Line 29\n\n ### On a scale of 1-5... how do you feel about this method of browsing potential dates (scroll instead of queue)? (1 being \"I did not enjoy it at all\", 5 being \"I enjoyed it a lot\")\nPlease expand.$3$Less motivated to match with the person 'in focus' - feels like this is more comparing with other people and may lead to choosing most attractive instead of humor/other criteria. Scrolling might diminish the tinder-like addiction of going through people.$5$Like it way more\nComparing people is the reality of dating, so nice to see\nDont want to take action\n$4$Allows people to compare people\n\"I think I'd be more like 'oh that's a bad picture' and keep scrolling\"\nNo one get's there spotlight\nKinda cool that there's no 'missed opportunities'.  Line 30\n\n ### On a scale of 1-5... how helpful do you feel this browsing experience will be in finding a match? (1 being \"not helpful at all\", 5 being \"very helpful\")\nPlease expand.$4$Options and context are helpful$$$4$Higher than the swipe technique.  Line 31\n\n ### On a scale of 1-5... how prominent is the humor theme during the browsing process? (1 being \"not prominent at all\", 5 being \"very prominent\")\nPlease expand.$3$Funny profile pics might help with this $2$No moat, not based on humor$2$Get's lost.  Line 32\n\n ### $$$$$$.  Line 33\n\n ### Icebreak$$$$$$.  Line 34\n\n ### Goal; Schedule a live date$TRUE$$TRUE$Easy$TRUE$Phone prototype - glitchy because of scroll\nShould be able to add to calendar / get notifications\nCan you have a calendar in your profile.  Line 35\n\n ### Targets / Questions:$$$$$$.  Line 36\n\n ### In terms of fun how would you rate the Icebreak challenge? (1 being \"not fun at all\", 5 being \"very fun\")\nPlease expand.$4$Especially fun if you could upload your own memes, or create your own in app$4$Love it, really cool$4$.  Line 37\n\n ### How did feel about the chat being locked until you complete the Icebreak challenge?\n$$Good way to get a sense of someones humor. Would prefer to be optional. Might want to comment on their profile or talk to someone.$$$$\"oh I like that\" (meme challenge)\ndickpics are a risk - need to flag\nLove this - or maybe an add on if someone pays they could send something else (joke).  Line 38\n\n ### On a scale of 1-5... how likely would you be to schedule a live date through the app? (1 being \"not likely at all\", 5 being 'very likely')\nPlease expand.$5$Fun to have a first time meet online instead of meeting in person, especially with pandemic$1$Go live - not sure what that is (explain video date)\nThis is essentially a 'dare'$5$Love the live date concept .  Line 39\n\n ### Likelihood of scheduling private live date $5$$3$Didn't know what this means$5$Great private concept.  Line 40\n\n ### Likelihood of scheduling invite-only live date$5$Unclear what date visibility meant - could be 'who can see this' and more specific$1$Didn't know what this means - not sure what it's going to look like\nMaybe see this feature once you're in the call (broadcast this date, invite spectators)$5$Friends?.  Line 41\n\n ### Likelihood of scheduling public live date$5$Good for people who like being in the public eye\nMaybe an incentive would help - have something included when scheduling it$1$Different target$5$For sure.  Line 42\n\n ### FU: If all ranked 0, ask what, if anything, would convince them use those features.$$1. Include social profiles in your dater profile\n2. Match with audience while on a date$$Some incentive to date$$.  Line 43\n\n ### $$$$$$.  Line 44\n\n ### Live date (Dater view)$$$$$$.  Line 45\n\n ### Goal; Navigate to live date$TRUE$Weird UX, should be something in the chat$TRUE$Fuck that's so creepy, but omg it might work'$TRUE$How do you end it? Stats when its over? Time limit? Entrypoint to set up another date.  Line 46\n\n ### Targets / Questions:$$$$$$.  Line 47\n\n ### On a scale of 1-5... how do you feel about audience sending prompts? (1 being \"I don't like it\", 5 being \"I think it's very fun\")$5$Gives you talking points\nCould generate own prompts if audience is limited to keep convo ideas going (could be a premium feature)$5$Weird experience, nice to have people there and things to do and talk about$5$Helps break the ice and keep the date flowing.  Line 48\n\n ### On a scale of 1-5... Do you feel rating your date adds value to this experience? (1 being \"It adds no value\", 5 being \"It adds a lot of value\")$2$Not a fan of rating being shared with date\nNot inclined to receive negative feedback$3$Should be everyone who has to rate$4$A good one, but can viewers rate it? Rate a dater? .  Line 49\n\n ### Live date (spectator view)$$$$$$.  Line 50\n\n ### Goal; Understand how live dates work$TRUE$Prompt generated is from female profile$TRUE$Im so happy. Awesome$TRUE$This is amazing\nOMG this is so funny, I like that a lot actually\nPeople are gonna get HM famous\n.  Line 51\n\n ### Targets / Questions:$$$$$$.  Line 52\n\n ### On a scale of 1-5... how likely would you be to watch live dates through HumorMe? (1 being \"not likely at all\", 5 being 'very likely') \nPlease expand.$5$Gives it more of a social aspect that Tinder or Bumble lacks$5$100%, no question$5$Is there a matchmaker function? (matthew hussey reference).  Line 53\n\n ### On a scale of 1-5... how do you feel about HumorMe's system for interacting with live prompts (i.e. nice, naughty and normal prompts)? (1 being \"I don't like them at all\", 5 being 'I like them a lot') \nPlease expand.$5$I like the Naughty prompt, it would probably generate funny content on the live\nGives control to the audience$4$Text is a little tough to read\nPrompt might have slightly different designs for the daters\nI'm having fun using this, but never will take it seriously\nGive them the power - vote on another date (yes/no)$5$Solid 5.  Line 54\n\n ### On a scale of 1-5... having seen the live dates section, how likely woud you be to go on a public live date using the HumorMe app?  (1 being \"not likely at all\", 5 being 'very likely') \nPlease expand.$5$$2$No, but it would encourage me more - it's more likely that I would$5$Can you broadcast these on IGTV (as a way to drive HM awareness).  Line 55\n\n ### On a scale of 1-5...how important do you feel flagging content is for live dates?$5$Would add a bullying or harassment option$4$$2$Only daters\n.  Line 56\n\n ### $$$$$$.  Line 57\n\n ### Profile tab$$$$$$.  Line 58\n\n ### Goal: Find key information easily$TRUE$$TRUE$$TRUE$.  Line 59\n\n ### Targets / Questions:$$$$$$.  Line 60\n\n ### On a scale of 1-5... how accurately are you able to express yourself to potential daters on this app with this profile format? (1 being \"not accurately at all\", 5 being \"very accurately\")$4$UNsure if this was a preview of profile (what others see)\nSeems to be a mix$3$Definition of humor isn't super clear.\nMaybe more options \n$3$Good foundation\nNeeds to be more unique (how can people stand out)\nOwn twist on these things.  Line 61\n\n ### What (if anything) would you want to add here?$$Bio section similar to Tinder where can add own jokes (optional) for more freedom to express your sense of humor\n\nShould be visually indicative of what others see (not look like you're editing - distance, one image, etc.)$$$$Focus on humor, could be fun; - Upload ugliest selfie - last pic (no shame) - funniest photo - etc..  Line 62\n\n ### What (if anything) would you want to remove$$$$$$.  Line 63\n\n ### $$$$$$.  Line 64\n\n ### Close out questions$$$$$$.  Line 65\n\n ### On a scale of 1-5... how likely would you be to use this app? (1 being \"not likely at all\", 5 being \"extremely likely)\nPlease expand.$5$Going live features are super cool$4$OMG this (spectating live dates) is brilliant - you're not here to f*ck, you're here to watch dates and make fun of people. Make dates the homepage of the app - show me the cheese. \nThis is better than porn$5$.  Line 66\n\n ### On a scale of 1-10... how likely would you be to recommend this app to a friend? (1 being \"not likely at all\", 10 being \"extremely likely)\nPlease expand.$10$$10$Have you looked at this...?\nLook at where the world is going$10$.  Line 67\n"
     ]
    }
   ],
   "source": [
    "import csv\n",
    "import re\n",
    "\n",
    "# Theo's Interviewees \n",
    "with open(\"HumorMe; Usability tests - Theo's Interviewees.csv\") as theo:\n",
    "    csv_reader = csv.reader(theo, delimiter=',')\n",
    "    line_count = 0\n",
    "    interview_responses = ''\n",
    "    for row in csv_reader:\n",
    "        line_count += 1\n",
    "        if line_count > 18: \n",
    "            print(f'\\n ### {\"$\".join(row)}. ', 'Line', line_count)\n",
    "\n",
    "            interview_responses += f'\\n ### {\"$\".join(row)}'; \n"
   ]
  },
  {
   "cell_type": "code",
   "execution_count": 205,
   "metadata": {},
   "outputs": [],
   "source": [
    "def clean_prompt(prompt):\n",
    "    prompt = re.sub('(On a scale of 1-5... )|(On a scale of 1-5...)|(On a scale of 1-10... )', '', prompt)\n",
    "    prompt = re.sub('\\\\n.*', '', prompt)\n",
    "    prompt = re.sub('\\?.*', '', prompt)\n",
    "    prompt = prompt.capitalize()\n",
    "    prompt = prompt.strip()\n",
    "    return prompt"
   ]
  },
  {
   "cell_type": "code",
   "execution_count": 206,
   "metadata": {
    "tags": []
   },
   "outputs": [
    {
     "output_type": "stream",
     "name": "stdout",
     "text": [
      "Goal; complete your dating profile\nTargets / questions:\nHow much did you enjoy the humorme onboarding process\nHow easy was it to achieve the goal of creating your dating profile\nHow accurately did the questions/answers reflect your sense of humor\nHow helpful were the prompts to building your dating profile\n\nPreview profile\nGoal; match with someone\nTargets / questions:\nIs it clear what the 'heart' and 'x' do\nHow do you feel about this method of browsing potential dates (scroll instead of queue)\nHow helpful do you feel this browsing experience will be in finding a match\nHow prominent is the humor theme during the browsing process\n\nIcebreak\nGoal; schedule a live date\nTargets / questions:\nIn terms of fun how would you rate the icebreak challenge\nHow did feel about the chat being locked until you complete the icebreak challenge\nHow likely would you be to schedule a live date through the app\nLikelihood of scheduling private live date\nLikelihood of scheduling invite-only live date\nLikelihood of scheduling public live date\nFu: if all ranked 0, ask what, if anything, would convince them use those features.\n\nLive date (dater view)\nGoal; navigate to live date\nTargets / questions:\nHow do you feel about audience sending prompts\nDo you feel rating your date adds value to this experience\nLive date (spectator view)\nGoal; understand how live dates work\nTargets / questions:\nHow likely would you be to watch live dates through humorme\nHow do you feel about humorme's system for interacting with live prompts (i.e. nice, naughty and normal prompts)\nHaving seen the live dates section, how likely woud you be to go on a public live date using the humorme app\nHow important do you feel flagging content is for live dates\n\nProfile tab\nGoal: find key information easily\nTargets / questions:\nHow accurately are you able to express yourself to potential daters on this app with this profile format\nWhat (if anything) would you want to add here\nWhat (if anything) would you want to remove\n\nClose out questions\nHow likely would you be to use this app\nHow likely would you be to recommend this app to a friend\n"
     ]
    }
   ],
   "source": [
    "# Create Dictionary of Key = Prompt, Value = Answers (in tuples 1st element score, 2nd element explanation)\n",
    "responses_split = interview_responses.split('###')\n",
    "responses_dict = {}\n",
    "for row in responses_split[1:]:\n",
    "    cols = row.split('$')\n",
    "    prompt = clean_prompt(cols[0][1:])\n",
    "    print(prompt)\n",
    "\n",
    "    responses = []\n",
    "    for num in range(len(cols)):\n",
    "\n",
    "        if (num % 2) != 0:\n",
    "            responses.append(tuple([cols[num], cols[num+1]]))\n",
    "            responses_dict[prompt] = responses"
   ]
  },
  {
   "cell_type": "code",
   "execution_count": 216,
   "metadata": {},
   "outputs": [
    {
     "output_type": "stream",
     "name": "stdout",
     "text": [
      "\n ### Goal; Complete your dating profile$FALSE$$$$$$$.  Line 19\n\n ### Targets / Questions:$$$$$$$$.  Line 20\n\n ### On a scale of 1-5... how much did you enjoy the HumorMe onboarding process? (1 being \"I did not enjoy it at all\", 5 being \"I enjoyed it a lot\")\nPlease expand.$4$Process is easy, idea is different, possibility to match with different people you normally wouldn't match with.$4$I liked picking memes and what makes me laugh and the comedians. I don't know about the Fuck, Marry, Kill because it doesn't seem necessary. The prompts don't seem necessary so would like it to be optional$4$It's very different from other dating apps. Most just make you put in the same information so these features are new and have a lot of potential. I wish every option would be optional so I didn't have to answer all of them like religion or favorite comedian$3$*Prefer not to say on religious beliefs* Would like to upload my own memes - maybe upload your own memes when you upload pictures? I liked the onboarding process, pretty easy. Liked the amount of options, don't want too many options. Diversity in memes are bad (\"Facebook mom memes\").  Line 21\n\n ### On a scale of 1-5... how easy was it to achieve the goal of creating your dating profile? (1 being \"very difficult\", 5 being \"super easy\")\nPlease expand.$5$Good amount of questions to ask someone without getting too personal, gives you an idea of who you are without asking uncomfortable questions$5$Quick and simple, very easy to follow$5$Seemed pretty similar to other apps, didn't ask too much but just enough to get a good sense of people you want to date$5$Very easy granted I didn't have to think about anything, promopts are stressful because I have to choose what I think will give me the most matches. Liked that I could just use my instagram pictures and options for shows/comedians.  Line 22\n\n ### On a scale of 1-5... how accurately did the questions/answers reflect your sense of humor? (1 being \"not accurately at all\", 5 being \"very accurately\")\nFU: Was there any information you felt was particularly relevant? Irrelevant?\n$3$I don't feel like I am a super funny person but I feel like I answered enough to get an idea of my personality and what I like. I feel like some people wouldn't enjoy some of the questions because some of the memes were outdated and some people may not like the TV shows$$The memes that autopopulated were bland and old, I wish I could upload my own memes$$I'm a super funny person so I wish I could have uploaded my own memes! It seems like I was forced to choose the funniest option out of many bad jokes$4$TV shows & comedians & prompts show my personality but wish it was more customizable. Would prefer to upload up to 6 of my own memes because it shows MY personality. .  Line 23\n\n ### On a scale of 1-5... how helpful were the prompts to building your dating profile? (1 being \"not helpful at all\", 5 being \"very helpful\")\nPlease expand.$4$Prompts add personality and helped set up my dating profile, good amount of questions$$Very helpful, instructions were clear and I knew where to go and how I was supposed to answer$$I wish there were more about your interests instead of just about memes. I understand wanting to find someone funny but it doesn't matter if someone is funny but is the complete opposite person from you with other views.$$\"Feels like a buzzfeed quiz\", prompts allow you to show your personality with the custom text box WANT: link a youtube, vine, or tiktok clip on my profile that describes me.  Line 24\n\n ### $$$$$$$$.  Line 25\n\n ### Preview profile$$$$$$$$.  Line 26\n\n ### Goal; Match with someone$TRUE$I like that there is a timeline and being able to see all $$$$$$.  Line 27\n\n ### Targets / Questions:$$$$$$$$.  Line 28\n\n ### Is it clear what the 'Heart' and 'X' do?$TRUE$Yes, very clear, very similar to Tinder/Bumble$$Yes, very clear$$Yep! Made sense- just like Tinder even though I've never used Tinder$$Yep, worldwide knowledge in the dating world what the heart and x do.  Line 29\n\n ### On a scale of 1-5... how do you feel about this method of browsing potential dates (scroll instead of queue)? (1 being \"I did not enjoy it at all\", 5 being \"I enjoyed it a lot\")\nPlease expand.$5$I prefer this better than the swiping layout because it gives you more options and makes me more inclined to go to someone's profile and learn more about them$5$I like this better than other apps because it gives me more options and I can compare the guys side by side instead of only focusing on one guy at a time. Seems more efficient and saves time.$3$Seems interesting but I feel like I wouldn't ever use the X and instead I would just like whoever I find attractive and skip over people I don't like. Does the timeline update every time? Or do the same people stay on the timeline until you X them?$5$Gives me a comparison of what's out there and let's me go back to other people in case you accidentally press the X.  Line 30\n\n ### On a scale of 1-5... how helpful do you feel this browsing experience will be in finding a match? (1 being \"not helpful at all\", 5 being \"very helpful\")\nPlease expand.$$If there are enough people on the app, I think this would be great to showing you more options and shows more possibilities are out there for me than the single person in front of me like on Tinder$3$More helpful because you can see more people. Is it an infinite list or does it shuffle every time you X or heart someone? I prefer this over the swiping experience. Also depends how many people are on the app, would be boring if there are not a lot of options$3$It doesn't really matter to me. At the end of the day you are still doing the same thing of X'ing them or hearting them. Would hate to keep seeing the same people. I like that you can leave people and come back to them if you are indifferent about them though!$5$Nice to see the smilarities and I really like being able to compare all of my choices and saves me time in having to swipe through every person.  Line 31\n\n ### On a scale of 1-5... how prominent is the humor theme during the browsing process? (1 being \"not prominent at all\", 5 being \"very prominent\")\nPlease expand.$3$Would have to go back and look more deeply (so I take this that the user did not get enough exposure to the humor aspects)$4$Good amount, wish people had to make their own catch phrases or jokes so you could see how funny they REALLY are$4$There are only three things: Name, job, and a joke, so yeah pretty prominent$$I like that it shows a sneak preview and encourages me to go to their profile to explore more, but I like more at pictures first. Attractiveness comes first and humor comes second for me personally.  Line 32\n\n ### $$$$$$$$.  Line 33\n\n ### Icebreak$$$$$$$$.  Line 34\n\n ### Goal; Schedule a live date$FALSE$$$$$$$.  Line 35\n\n ### Targets / Questions:$$$$$$$$.  Line 36\n\n ### In terms of fun how would you rate the Icebreak challenge? (1 being \"not fun at all\", 5 being \"very fun\")\nPlease expand.$5$It's different and less awkward because you don't have to start the conversation yourself$4$Something different, better than just guys sending you cheesy pickup lines or sliding into your DMs$4$Good conversation starter, want to send my own memes$3$If I thought I could have a good conversation with them I would prefer to talk to them but I liked having a conversation starter.  Line 37\n\n ### How did feel about the chat being locked until you complete the Icebreak challenge?\n$$I think it's fine I didn't mind, I think it's a good way to get to know someone before starting the actual chat, maybe more questions or different prompts$$I don't care either way, having both options would be better.$$Good because you can't get unsolicited messages or d*ck pics$$I liked it because it makes you start a conversation instead of just matching with someone and never actually talking.  Line 38\n\n ### On a scale of 1-5... how likely would you be to schedule a live date through the app? (1 being \"not likely at all\", 5 being 'very likely')\nPlease expand.$1$I wouldn't do a live chat right away but maybe after chatting for a while and getting to know the person better$0$Would never do that.... ever. Too antisocial and shy.$2$I don't even facetime people so videochatting is just weird for me. Cool feature though$5$Especially during Covid I would use this before meeting someone in person. Also a great feature for girls who are nervous a guy might be creepy and they don't want to meet them in person yet.  Line 39\n\n ### Likelihood of scheduling private live date $5$More likely$$3$$3$$5.  Line 40\n\n ### Likelihood of scheduling invite-only live date$2$Less likely$$4$$2$$4 - would be fun to have my friends \"vet\" guys with me and make sure they are normal.  Line 41\n\n ### Likelihood of scheduling public live date$1$Not likely at all$$0$$1$$1 - I'm not that outgoing and would probably embarass myself. I know people would use this though and think it could be funny like reality tv.  Line 42\n\n ### FU: If all ranked 0, ask what, if anything, would convince them use those features.$$Not in my comfort zone, maybe after we knew each other more$$$$I would do it more if people weren't able to say random things in chat or make fun of you$$.  Line 43\n\n ### $$$$$$$$.  Line 44\n\n ### Live date (Dater view)$$$$$$$$.  Line 45\n\n ### Goal; Navigate to live date$FALSE$$$$$$$.  Line 46\n\n ### Targets / Questions:$$$$$$$$.  Line 47\n\n ### On a scale of 1-5... how do you feel about audience sending prompts? (1 being \"I don't like it\", 5 being \"I think it's very fun\")$5$I think that's awesome and I think it's super fun to have the audience controlling the conversation$4$Would rather have people send prompts than just random chat for people to talk about us on our first date, could introduce bullying$4$I like the prompts and think it would be funny if there were some 18+ questions to make jokes about with the other person$5$I think it's really fun, especially if both people are into being live so would be entertaining watch, keeps the conversation going.  Line 48\n\n ### On a scale of 1-5... Do you feel rating your date adds value to this experience? (1 being \"It adds no value\", 5 being \"It adds a lot of value\")$2$I don't think we really need to rate our dates but maybe if it was a private option$$No I don't want to know how people rated me, maybe if there was some benefit to your profile or it showed on your profile how many stars you have$$Not really... I would hate to think I was having a good talk with a girl just to get off and she rates me a one star?$$I would want to see if I was good and let guys know if they were funny but it would suck to get a bad rating. Maybe if it worked as an algorithm and helped find me better dates.  Line 49\n\n ### Live date (spectator view)$$$$$$$$.  Line 50\n\n ### Goal; Understand how live dates work$FALSE$$$$$$$.  Line 51\n\n ### Targets / Questions:$$$$$$$$.  Line 52\n\n ### On a scale of 1-5... how likely would you be to watch live dates through HumorMe? (1 being \"not likely at all\", 5 being 'very likely') \nPlease expand.$5$I would love to watch other people go on live dates, would be super fun$3$Think it would be interesting, I would just hate to have people watch me. Reminds me of reality tv$1$I would never waste my time watching other people, I would only do it if my friend was on a date so I could mess around with them$5$Reminds me of the bachelor, super cool idea.  Line 53\n\n ### On a scale of 1-5... how do you feel about HumorMe's system for interacting with live prompts (i.e. nice, naughty and normal prompts)? (1 being \"I don't like them at all\", 5 being 'I like them a lot') \nPlease expand.$$I think they are really fun, and add a little more flavor and makes it unique to other apps$5$I like having categories of questions to pick from$5$Seems like the only way, I wouldn't change them$4$You can learn a lot from the prompts and how they answer the questions instead of having to ask your own questions,.  Line 54\n\n ### On a scale of 1-5... having seen the live dates section, how likely woud you be to go on a public live date using the HumorMe app?  (1 being \"not likely at all\", 5 being 'very likely') \nPlease expand.$1$Unlikely, my personality is just awkward and I wouldn't do it but I think other people would use it$$$$$$Depends on the people and how many people are in the audience, would prefer if you could choose different locations.  Line 55\n\n ### On a scale of 1-5...how important do you feel flagging content is for live dates?$$$$5, very important$$5 - Don't want underage people seeing nudity or bullying to happen on live dates$$5, prevents yelling or hyper-sexual conversations so the audience is uncomfortable.  Line 56\n\n ### $$$$$$$$.  Line 57\n\n ### Profile tab$$$$$$$$.  Line 58\n\n ### Goal: Find key information easily$FALSE$$$$$$$.  Line 59\n\n ### Targets / Questions:$$$$$$$$.  Line 60\n\n ### On a scale of 1-5... how accurately are you able to express yourself to potential daters on this app with this profile format? (1 being \"not accurately at all\", 5 being \"very accurately\")$4$Wish the app had a brief bio, like prefernces for things, memes are fun but it's also a dating app that needs more personal questions$3$Don't have any spots for actual personal information, I like the funny stuff but that seems to be the only info on the entire profile, this is a dating app so I want to know other interests besides what makes them laugh$3$I want to know more about girls besides the shows or memes they like so would like more questions about who they are and what other things they like$4$Pretty accurate, like the layout - seems pretty similar to all other dating apps.  Line 61\n\n ### What (if anything) would you want to add here?$$No$$I want to know people's political stance in today's age, not just the jokes guys make$$Hobbies, interests, NEEDS a section for vines$$Need a bio to tell people what I'm looking for or at least the option to.  Line 62\n\n ### What (if anything) would you want to remove?$$No$$$$6 is a good amount of pictures, don't want more than that to scroll through$$Nothing.  Line 63\n\n ### $$$$$$$$.  Line 64\n\n ### Close out questions$$$$$$$$.  Line 65\n\n ### On a scale of 1-5... how likely would you be to use this app? (1 being \"not likely at all\", 5 being \"extremely likely)\nPlease expand.$4$It's a cool new idea that woulds attract more people my age, very unique$$I like the social side of the app that we've never seen on dating apps before, I also like that you can meet with someone via live chat instead of meeting in person because for girls that can be very scary to meet guys in person$3$Only if the finished product has more than just funny stuff, need to know more about other people$2$Would be a 3 if I was in a bigger city with a more diverse pool of users to choose from.  Line 66\n\n ### On a scale of 1-10... how likely would you be to recommend this app to a friend? (1 being \"not likely at all\", 10 being \"extremely likely)\nPlease expand.$10$I would love my friends to be on the app and the feeling of being social instead of just another dating app, much better for my generation, adds more fun to dating$10$I would send this to my single friends 100% so I could watch their dates$8$Only say 8 because I don't have any experience with other dating apps but I know my friend group woould like this$8$If I was using it, I would want my friends to be on it too. This would be something my friends would use to watch dates and watch each other's dates.  Line 67\n"
     ]
    }
   ],
   "source": [
    "with open(\"HumorMe; Usability tests - Peyton's Interviewees.csv\") as peyton:\n",
    "    csv_reader = csv.reader(peyton, delimiter=',')\n",
    "    line_count = 0\n",
    "    interview_responses = ''\n",
    "    for row in csv_reader:\n",
    "        line_count += 1\n",
    "        if line_count > 18: \n",
    "            print(f'\\n ### {\"$\".join(row)}. ', 'Line', line_count)\n",
    "\n",
    "            interview_responses += f'\\n ### {\"$\".join(row)}'; "
   ]
  },
  {
   "cell_type": "code",
   "execution_count": 207,
   "metadata": {},
   "outputs": [],
   "source": [
    "def search_results(question):\n",
    "    for response in responses_dict[question]:\n",
    "        print(\"Score =\", response[0], \"Explanation=\", response[1], \"\\n ________________\\n\")"
   ]
  },
  {
   "cell_type": "code",
   "execution_count": 212,
   "metadata": {},
   "outputs": [],
   "source": [
    "questions = \"Goal; complete your dating profile\\nHow much did you enjoy the humorme onboarding process\\nHow easy was it to achieve the goal of creating your dating profile\\nHow accurately did the questions/answers reflect your sense of humor\\nHow helpful were the prompts to building your dating profile\\n\\nGoal; match with someone\\nIs it clear what the 'heart' and 'x' do\\nHow do you feel about this method of browsing potential dates (scroll instead of queue)\\nHow helpful do you feel this browsing experience will be in finding a match\\nHow prominent is the humor theme during the browsing process\\n\\nGoal; schedule a live date\\nIn terms of fun how would you rate the icebreak challenge\\nHow did feel about the chat being locked until you complete the icebreak challenge\\nHow likely would you be to schedule a live date through the app\\nLikelihood of scheduling private live date\\nLikelihood of scheduling invite-only live date\\nLikelihood of scheduling public live date\\nFu: if all ranked 0, ask what, if anything, would convince them use those features.\" "
   ]
  },
  {
   "cell_type": "code",
   "execution_count": 213,
   "metadata": {},
   "outputs": [
    {
     "output_type": "stream",
     "name": "stdout",
     "text": [
      "Goal; complete your dating profile\nHow much did you enjoy the humorme onboarding process\nHow easy was it to achieve the goal of creating your dating profile\nHow accurately did the questions/answers reflect your sense of humor\nHow helpful were the prompts to building your dating profile\n\nGoal; match with someone\nIs it clear what the 'heart' and 'x' do\nHow do you feel about this method of browsing potential dates (scroll instead of queue)\nHow helpful do you feel this browsing experience will be in finding a match\nHow prominent is the humor theme during the browsing process\n\nGoal; schedule a live date\nIn terms of fun how would you rate the icebreak challenge\nHow did feel about the chat being locked until you complete the icebreak challenge\nHow likely would you be to schedule a live date through the app\nLikelihood of scheduling private live date\nLikelihood of scheduling invite-only live date\nLikelihood of scheduling public live date\nFu: if all ranked 0, ask what, if anything, would convince them use those features.\n"
     ]
    }
   ],
   "source": [
    "# Run this to get the list of questions. \n",
    "print(questions)"
   ]
  },
  {
   "cell_type": "code",
   "execution_count": 214,
   "metadata": {},
   "outputs": [
    {
     "output_type": "stream",
     "name": "stdout",
     "text": [
      "Score = 4 Explanation= Especially fun if you could upload your own memes, or create your own in app \n ________________\n\nScore = 4 Explanation= Love it, really cool \n ________________\n\nScore = 4 Explanation= \n  \n ________________\n\n"
     ]
    }
   ],
   "source": [
    "# Replace -PLACEHOLDER- with a question from above and run to get results! \n",
    "# [NOTICE] If you paste and there are extra lines, just delete them.\n",
    "search_results(\"In terms of fun how would you rate the icebreak challenge\")"
   ]
  },
  {
   "cell_type": "code",
   "execution_count": null,
   "metadata": {},
   "outputs": [],
   "source": []
  }
 ]
}