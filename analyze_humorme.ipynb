{
 "metadata": {
  "language_info": {
   "codemirror_mode": {
    "name": "ipython",
    "version": 3
   },
   "file_extension": ".py",
   "mimetype": "text/x-python",
   "name": "python",
   "nbconvert_exporter": "python",
   "pygments_lexer": "ipython3",
   "version": "3.7.4-final"
  },
  "orig_nbformat": 2,
  "kernelspec": {
   "name": "Python 3.7.4 64-bit",
   "display_name": "Python 3.7.4 64-bit",
   "metadata": {
    "interpreter": {
     "hash": "e534e48711db4d1e1c48977d0d14ff85b1f16d41bcc4fdfd88268a329b3c9d66"
    }
   }
  }
 },
 "nbformat": 4,
 "nbformat_minor": 2,
 "cells": [
  {
   "cell_type": "code",
   "execution_count": 1,
   "metadata": {},
   "outputs": [],
   "source": [
    "import csv\n",
    "import re\n",
    "\n",
    "# Theo's Interviewees \n",
    "with open(\"HumorMe; Usability tests - Theo's Interviewees.csv\") as theo:\n",
    "    csv_reader = csv.reader(theo, delimiter=',')\n",
    "    line_count = 0\n",
    "    interview_responses = ''\n",
    "    for row in csv_reader:\n",
    "        line_count += 1\n",
    "        if line_count > 18: \n",
    "\n",
    "            interview_responses += f'\\n ### {\"$\".join(row)}'; \n"
   ]
  },
  {
   "cell_type": "code",
   "execution_count": 2,
   "metadata": {},
   "outputs": [],
   "source": [
    "def clean_prompt(prompt):\n",
    "    prompt = re.sub('(On a scale of 1-5... )|(On a scale of 1-5...)|(On a scale of 1-10... )', '', prompt)\n",
    "    prompt = re.sub('\\\\n.*', '', prompt)\n",
    "    prompt = re.sub('\\?.*', '', prompt)\n",
    "    prompt = prompt.capitalize()\n",
    "    prompt = prompt.strip()\n",
    "    return prompt"
   ]
  },
  {
   "cell_type": "code",
   "execution_count": 3,
   "metadata": {
    "tags": []
   },
   "outputs": [],
   "source": [
    "# Create Dictionary of Key = Prompt, Value = Answers (in tuples 1st element score, 2nd element explanation)\n",
    "responses_split = interview_responses.split('###')\n",
    "responses_dict = {}\n",
    "for row in responses_split[1:]:\n",
    "    cols = row.split('$')\n",
    "    prompt = clean_prompt(cols[0][1:])\n",
    "\n",
    "    responses = []\n",
    "    for num in range(len(cols)):\n",
    "\n",
    "        if (num % 2) != 0:\n",
    "            responses.append(tuple([cols[num], cols[num+1]]))\n",
    "    responses_dict[prompt] = responses"
   ]
  },
  {
   "cell_type": "code",
   "execution_count": 4,
   "metadata": {
    "tags": []
   },
   "outputs": [],
   "source": [
    "with open(\"HumorMe; Usability tests - Peyton's Interviewees.csv\") as peyton:\n",
    "    csv_reader = csv.reader(peyton, delimiter=',')\n",
    "    line_count = 0\n",
    "    peyton_responses = ''\n",
    "    for row in csv_reader:\n",
    "        line_count += 1\n",
    "        if line_count > 18: \n",
    "            peyton_responses += f'\\n ### {\"$\".join(row)}'; \n",
    "\n",
    "with open(\"HumorMe; Usability tests - Amanda's Interviewees.csv\") as amanda:\n",
    "    csv_reader = csv.reader(amanda, delimiter=',')\n",
    "    line_count = 0\n",
    "    for row in csv_reader:\n",
    "        line_count += 1\n",
    "        if line_count > 18: \n",
    "            peyton_responses += f'\\n ### {\"$\".join(row)}'; \n",
    "\n",
    "with open(\"HumorMe; Usability tests - Sam's Interviewees.csv\") as sam:\n",
    "    csv_reader = csv.reader(sam, delimiter=',')\n",
    "    line_count = 0\n",
    "    for row in csv_reader:\n",
    "        line_count += 1\n",
    "        if line_count > 18: \n",
    "            peyton_responses += f'\\n ### {\"$\".join(row)}'; \n",
    "\n"
   ]
  },
  {
   "cell_type": "code",
   "execution_count": 5,
   "metadata": {
    "tags": []
   },
   "outputs": [],
   "source": [
    "# Create Dictionary of Key = Prompt, Value = Answers (in tuples 1st element score, 2nd element explanation)\n",
    "pey_responses_split = peyton_responses.split('###')\n",
    "for row in pey_responses_split[1:]:\n",
    "    cols = row.split('$')\n",
    "    prompt = clean_prompt(cols[0][1:])\n",
    "\n",
    "    responses = []\n",
    "    \n",
    "    for num in range(len(cols)):\n",
    "    \n",
    "        if (num % 2) != 0:\n",
    "          responses.append(tuple([cols[num], cols[num+1]]))\n",
    "\n",
    "    responses_dict[prompt] = responses_dict[prompt] + responses"
   ]
  },
  {
   "cell_type": "code",
   "execution_count": 11,
   "metadata": {},
   "outputs": [],
   "source": [
    "def search_results(question):\n",
    "    num = 0\n",
    "    for response in responses_dict[question]:\n",
    "        num +=1 \n",
    "        print(\"Score =\", response[0], \"Explanation=\", response[1], \"\\n ________________\\n\")\n"
   ]
  },
  {
   "cell_type": "code",
   "execution_count": 7,
   "metadata": {},
   "outputs": [],
   "source": [
    "questions = \"Goal; complete your dating profile\\nHow much did you enjoy the humorme onboarding process\\nHow easy was it to achieve the goal of creating your dating profile\\nHow accurately did the questions/answers reflect your sense of humor\\nHow helpful were the prompts to building your dating profile\\n\\nGoal; match with someone\\nIs it clear what the 'heart' and 'x' do\\nHow do you feel about this method of browsing potential dates (scroll instead of queue)\\nHow helpful do you feel this browsing experience will be in finding a match\\nHow prominent is the humor theme during the browsing process\\n\\nGoal; schedule a live date\\nIn terms of fun how would you rate the icebreak challenge\\nHow did feel about the chat being locked until you complete the icebreak challenge\\nHow likely would you be to schedule a live date through the app\\nLikelihood of scheduling private live date\\nLikelihood of scheduling invite-only live date\\nLikelihood of scheduling public live date\\nFu: if all ranked 0, ask what, if anything, would convince them use those features.\" "
   ]
  },
  {
   "cell_type": "code",
   "execution_count": 18,
   "metadata": {},
   "outputs": [
    {
     "output_type": "stream",
     "name": "stdout",
     "text": [
      "Goal; complete your dating profile\nHow much did you enjoy the humorme onboarding process\nHow easy was it to achieve the goal of creating your dating profile\nHow accurately did the questions/answers reflect your sense of humor\nHow helpful were the prompts to building your dating profile\n\nGoal; match with someone\nIs it clear what the 'heart' and 'x' do\nHow do you feel about this method of browsing potential dates (scroll instead of queue)\nHow helpful do you feel this browsing experience will be in finding a match\nHow prominent is the humor theme during the browsing process\n\nGoal; schedule a live date\nIn terms of fun how would you rate the icebreak challenge\nHow did feel about the chat being locked until you complete the icebreak challenge\nHow likely would you be to schedule a live date through the app\nLikelihood of scheduling private live date\nLikelihood of scheduling invite-only live date\nLikelihood of scheduling public live date\nFu: if all ranked 0, ask what, if anything, would convince them use those features.\n"
     ]
    }
   ],
   "source": [
    "# Run this to get the list of questions. \n",
    "print(questions)"
   ]
  },
  {
   "cell_type": "code",
   "execution_count": 12,
   "metadata": {
    "tags": []
   },
   "outputs": [
    {
     "output_type": "stream",
     "name": "stdout",
     "text": [
      "Score = 4 Explanation= Especially fun if you could upload your own memes, or create your own in app \n ________________\n\nScore = 4 Explanation= Love it, really cool \n ________________\n\nScore = 4 Explanation= \n  \n ________________\n\nScore = 5 Explanation= It's different and less awkward because you don't have to start the conversation yourself \n ________________\n\nScore = 4 Explanation= Something different, better than just guys sending you cheesy pickup lines or sliding into your DMs \n ________________\n\nScore = 4 Explanation= Good conversation starter, want to send my own memes \n ________________\n\nScore = 3 Explanation= If I thought I could have a good conversation with them I would prefer to talk to them but I liked having a conversation starter\n  \n ________________\n\nScore = 3 Explanation= Didn't think his meme was funny.\n\"Could start the conversation. I'm just not a huge fan of memes\" \n ________________\n\nScore = 5 Explanation= A lot of the time it can be stressfu trying ot think of how to start a conversation, and you can share something about yourself.\n\"Turned something stressful into something fun\" \n ________________\n\nScore = 4 Explanation= You can upload your own memes! \n ________________\n\nScore = 4 Explanation= The concept could be fun, this exact on is pretty fun. \n ________________\n\nScore = 4 Explanation= \"Dick pic central.\"\nPictures should have to be verified and you have a group of verified pictures in your app.\nBut really liked the concept. \n ________________\n\nScore = 2 Explanation= I missed the prompt of the challenge at first. \n ________________\n\nScore = 3 Explanation= \"It's kind of interesting, but it's kind of like very specific and polarizing. The interting part is getting a visual prompt, and I kind of like that memes.\"\n  \n ________________\n\nScore = 1 Explanation= The point of memes is just checking it out and sending with your friend (and even if they do sometime the friend doesn't laugh) - it doesn't work in this context \n ________________\n\nScore = 2 Explanation= He's not really into memes that much, but it does the job \n ________________\n\nScore = 4 Explanation= he's okay with memes \n ________________\n\nScore = 4 Explanation= it didn't blow me away, but it was cool' \n ________________\n\nScore = 3 Explanation= Don't know if you can really show that much of your personality through that - don't know if it really starts a conversation \n ________________\n\nScore = 3 Explanation= She liked the competition aspect of it \n  \n ________________\n\n"
     ]
    }
   ],
   "source": [
    "# Replace -PLACEHOLDER- with a question from above and run to get results! \n",
    "# [NOTICE] If you paste and there are extra lines, just delete them.\n",
    "search_results(\"In terms of fun how would you rate the icebreak challenge\")"
   ]
  },
  {
   "cell_type": "code",
   "execution_count": null,
   "metadata": {},
   "outputs": [],
   "source": []
  }
 ]
}