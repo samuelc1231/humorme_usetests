{
 "metadata": {
  "language_info": {
   "codemirror_mode": {
    "name": "ipython",
    "version": 3
   },
   "file_extension": ".py",
   "mimetype": "text/x-python",
   "name": "python",
   "nbconvert_exporter": "python",
   "pygments_lexer": "ipython3",
   "version": "3.7.4-final"
  },
  "orig_nbformat": 2,
  "kernelspec": {
   "name": "Python 3.7.4 64-bit",
   "display_name": "Python 3.7.4 64-bit",
   "metadata": {
    "interpreter": {
     "hash": "e534e48711db4d1e1c48977d0d14ff85b1f16d41bcc4fdfd88268a329b3c9d66"
    }
   }
  }
 },
 "nbformat": 4,
 "nbformat_minor": 2,
 "cells": [
  {
   "cell_type": "code",
   "execution_count": 1,
   "metadata": {},
   "outputs": [],
   "source": [
    "# Run this to initialize everything \n",
    "import csv\n",
    "import re\n",
    "\n",
    "questions = \"Goal; complete your dating profile\\nHow much did you enjoy the humorme onboarding process\\nHow easy was it to achieve the goal of creating your dating profile\\nHow accurately did the questions/answers reflect your sense of humor\\nHow helpful were the prompts to building your dating profile\\n\\nGoal; match with someone\\nIs it clear what the 'heart' and 'x' do\\nHow do you feel about this method of browsing potential dates (scroll instead of queue)\\nHow helpful do you feel this browsing experience will be in finding a match\\nHow prominent is the humor theme during the browsing process\\n\\nGoal; schedule a live date\\nIn terms of fun how would you rate the icebreak challenge\\nHow did feel about the chat being locked until you complete the icebreak challenge\\nHow likely would you be to schedule a live date through the app\\nLikelihood of scheduling private live date\\nLikelihood of scheduling invite-only live date\\nLikelihood of scheduling public live date\\nFu: if all ranked 0, ask what, if anything, would convince them use those features.\\n\\nGoal; navigate to live date\\nHow do you feel about audience sending prompts\\nDo you feel rating your date adds value to this experience\\n\\nGoal; understand how live dates work\\nHow likely would you be to watch live dates through humorme\\nHow do you feel about humorme's system for interacting with live prompts (i.e. nice, naughty and normal prompts)\\nHaving seen the live dates section, how likely woud you be to go on a public live date using the humorme app\\nHow important do you feel flagging content is for live dates\\n\\nGoal: find key information easily\\nHow accurately are you able to express yourself to potential daters on this app with this profile format\\nWhat (if anything) would you want to add here\\nWhat (if anything) would you want to remove\\nHow likely would you be to use this app\\nHow likely would you be to recommend this app to a friend\" \n",
    "\n",
    "def clean_prompt(prompt):\n",
    "    prompt = re.sub('(On a scale of 1-5... )|(On a scale of 1-5...)|(On a scale of 1-10... )', '', prompt)\n",
    "    prompt = re.sub('\\\\n.*', '', prompt)\n",
    "    prompt = re.sub('\\?.*', '', prompt)\n",
    "    prompt = prompt.capitalize()\n",
    "    prompt = prompt.strip()\n",
    "    return prompt\n",
    "\n",
    "def search_results(question):\n",
    "    num = 0\n",
    "    for response in responses_dict[question]:\n",
    "        num +=1 \n",
    "        print(\"Score =\", response[0], \"Explanation=\", response[1], \"\\n ________________\\n\")\n",
    "\n",
    "# Theo's Interviewees \n",
    "with open(\"HumorMe; Usability tests - Theo's Interviewees.csv\") as theo:\n",
    "    csv_reader = csv.reader(theo, delimiter=',')\n",
    "    line_count = 0\n",
    "    interview_responses = ''\n",
    "    for row in csv_reader:\n",
    "        line_count += 1\n",
    "        if line_count > 18: \n",
    "\n",
    "            interview_responses += f'\\n ### {\"$\".join(row)}'; \n",
    "\n",
    "# Create Dictionary of Key = Prompt, Value = Answers (in tuples 1st element score, 2nd element explanation)\n",
    "responses_split = interview_responses.split('###')\n",
    "responses_dict = {}\n",
    "for row in responses_split[1:]:\n",
    "    cols = row.split('$')\n",
    "    prompt = clean_prompt(cols[0][1:])\n",
    "\n",
    "    responses = []\n",
    "    for num in range(len(cols)):\n",
    "\n",
    "        if (num % 2) != 0:\n",
    "            responses.append(tuple([cols[num], cols[num+1]]))\n",
    "    responses_dict[prompt] = responses\n",
    "\n",
    "with open(\"HumorMe; Usability tests - Peyton's Interviewees.csv\") as peyton:\n",
    "    csv_reader = csv.reader(peyton, delimiter=',')\n",
    "    line_count = 0\n",
    "    peyton_responses = ''\n",
    "    for row in csv_reader:\n",
    "        line_count += 1\n",
    "        if line_count > 18: \n",
    "            peyton_responses += f'\\n ### {\"$\".join(row)}'; \n",
    "\n",
    "with open(\"HumorMe; Usability tests - Amanda's Interviewees.csv\") as amanda:\n",
    "    csv_reader = csv.reader(amanda, delimiter=',')\n",
    "    line_count = 0\n",
    "    for row in csv_reader:\n",
    "        line_count += 1\n",
    "        if line_count > 18: \n",
    "            peyton_responses += f'\\n ### {\"$\".join(row)}'; \n",
    "\n",
    "with open(\"HumorMe; Usability tests - Sam's Interviewees.csv\") as sam:\n",
    "    csv_reader = csv.reader(sam, delimiter=',')\n",
    "    line_count = 0\n",
    "    for row in csv_reader:\n",
    "        line_count += 1\n",
    "        if line_count > 18: \n",
    "            peyton_responses += f'\\n ### {\"$\".join(row)}'; \n",
    "\n",
    "# Create Dictionary of Key = Prompt, Value = Answers (in tuples 1st element score, 2nd element explanation)\n",
    "pey_responses_split = peyton_responses.split('###')\n",
    "for row in pey_responses_split[1:]:\n",
    "    cols = row.split('$')\n",
    "    prompt = clean_prompt(cols[0][1:])\n",
    "\n",
    "    responses = []\n",
    "    \n",
    "    for num in range(len(cols)):\n",
    "    \n",
    "        if (num % 2) != 0:\n",
    "          responses.append(tuple([cols[num], cols[num+1]]))\n",
    "\n",
    "    responses_dict[prompt] = responses_dict[prompt] + responses\n",
    "\n"
   ]
  },
  {
   "cell_type": "code",
   "execution_count": 2,
   "metadata": {},
   "outputs": [
    {
     "output_type": "stream",
     "name": "stdout",
     "text": [
      "Goal; complete your dating profile\nHow much did you enjoy the humorme onboarding process\nHow easy was it to achieve the goal of creating your dating profile\nHow accurately did the questions/answers reflect your sense of humor\nHow helpful were the prompts to building your dating profile\n\nGoal; match with someone\nIs it clear what the 'heart' and 'x' do\nHow do you feel about this method of browsing potential dates (scroll instead of queue)\nHow helpful do you feel this browsing experience will be in finding a match\nHow prominent is the humor theme during the browsing process\n\nGoal; schedule a live date\nIn terms of fun how would you rate the icebreak challenge\nHow did feel about the chat being locked until you complete the icebreak challenge\nHow likely would you be to schedule a live date through the app\nLikelihood of scheduling private live date\nLikelihood of scheduling invite-only live date\nLikelihood of scheduling public live date\nFu: if all ranked 0, ask what, if anything, would convince them use those features.\n\nGoal; navigate to live date\nHow do you feel about audience sending prompts\nDo you feel rating your date adds value to this experience\n\nGoal; understand how live dates work\nHow likely would you be to watch live dates through humorme\nHow do you feel about humorme's system for interacting with live prompts (i.e. nice, naughty and normal prompts)\nHaving seen the live dates section, how likely woud you be to go on a public live date using the humorme app\nHow important do you feel flagging content is for live dates\n\nGoal: find key information easily\nHow accurately are you able to express yourself to potential daters on this app with this profile format\nWhat (if anything) would you want to add here\nWhat (if anything) would you want to remove\nHow likely would you be to use this app\nHow likely would you be to recommend this app to a friend\n"
     ]
    }
   ],
   "source": [
    "# Run this to get the list of questions. Copy and Paste any line into the next box to get results\n",
    "print(questions)"
   ]
  },
  {
   "cell_type": "code",
   "execution_count": 3,
   "metadata": {
    "tags": []
   },
   "outputs": [
    {
     "output_type": "error",
     "ename": "KeyError",
     "evalue": "'-PLACEHOLDER-'",
     "traceback": [
      "\u001b[0;31m---------------------------------------------------------------------------\u001b[0m",
      "\u001b[0;31mKeyError\u001b[0m                                  Traceback (most recent call last)",
      "\u001b[0;32m<ipython-input-3-eefc958e6ad5>\u001b[0m in \u001b[0;36m<module>\u001b[0;34m\u001b[0m\n\u001b[1;32m      1\u001b[0m \u001b[0;31m# Replace -PLACEHOLDER- with a question from above and run to get results! *don't remove quotes!\u001b[0m\u001b[0;34m\u001b[0m\u001b[0;34m\u001b[0m\u001b[0;34m\u001b[0m\u001b[0m\n\u001b[1;32m      2\u001b[0m \u001b[0;31m# [NOTICE] If you paste and there are extra lines, just delete them.\u001b[0m\u001b[0;34m\u001b[0m\u001b[0;34m\u001b[0m\u001b[0;34m\u001b[0m\u001b[0m\n\u001b[0;32m----> 3\u001b[0;31m \u001b[0msearch_results\u001b[0m\u001b[0;34m(\u001b[0m\u001b[0;34m\"-PLACEHOLDER-\"\u001b[0m\u001b[0;34m)\u001b[0m\u001b[0;34m\u001b[0m\u001b[0;34m\u001b[0m\u001b[0m\n\u001b[0m",
      "\u001b[0;32m<ipython-input-1-15f067a44127>\u001b[0m in \u001b[0;36msearch_results\u001b[0;34m(question)\u001b[0m\n\u001b[1;32m     15\u001b[0m \u001b[0;32mdef\u001b[0m \u001b[0msearch_results\u001b[0m\u001b[0;34m(\u001b[0m\u001b[0mquestion\u001b[0m\u001b[0;34m)\u001b[0m\u001b[0;34m:\u001b[0m\u001b[0;34m\u001b[0m\u001b[0;34m\u001b[0m\u001b[0m\n\u001b[1;32m     16\u001b[0m     \u001b[0mnum\u001b[0m \u001b[0;34m=\u001b[0m \u001b[0;36m0\u001b[0m\u001b[0;34m\u001b[0m\u001b[0;34m\u001b[0m\u001b[0m\n\u001b[0;32m---> 17\u001b[0;31m     \u001b[0;32mfor\u001b[0m \u001b[0mresponse\u001b[0m \u001b[0;32min\u001b[0m \u001b[0mresponses_dict\u001b[0m\u001b[0;34m[\u001b[0m\u001b[0mquestion\u001b[0m\u001b[0;34m]\u001b[0m\u001b[0;34m:\u001b[0m\u001b[0;34m\u001b[0m\u001b[0;34m\u001b[0m\u001b[0m\n\u001b[0m\u001b[1;32m     18\u001b[0m         \u001b[0mnum\u001b[0m \u001b[0;34m+=\u001b[0m\u001b[0;36m1\u001b[0m\u001b[0;34m\u001b[0m\u001b[0;34m\u001b[0m\u001b[0m\n\u001b[1;32m     19\u001b[0m         \u001b[0mprint\u001b[0m\u001b[0;34m(\u001b[0m\u001b[0;34m\"Score =\"\u001b[0m\u001b[0;34m,\u001b[0m \u001b[0mresponse\u001b[0m\u001b[0;34m[\u001b[0m\u001b[0;36m0\u001b[0m\u001b[0;34m]\u001b[0m\u001b[0;34m,\u001b[0m \u001b[0;34m\"Explanation=\"\u001b[0m\u001b[0;34m,\u001b[0m \u001b[0mresponse\u001b[0m\u001b[0;34m[\u001b[0m\u001b[0;36m1\u001b[0m\u001b[0;34m]\u001b[0m\u001b[0;34m,\u001b[0m \u001b[0;34m\"\\n ________________\\n\"\u001b[0m\u001b[0;34m)\u001b[0m\u001b[0;34m\u001b[0m\u001b[0;34m\u001b[0m\u001b[0m\n",
      "\u001b[0;31mKeyError\u001b[0m: '-PLACEHOLDER-'"
     ]
    }
   ],
   "source": [
    "# Replace -PLACEHOLDER- with a question from above and run to get results! *don't remove quotes!\n",
    "# [NOTICE] If you paste and there are extra lines, just delete them.\n",
    "search_results(\"-PLACEHOLDER-\")"
   ]
  },
  {
   "cell_type": "code",
   "execution_count": null,
   "metadata": {},
   "outputs": [],
   "source": []
  }
 ]
}